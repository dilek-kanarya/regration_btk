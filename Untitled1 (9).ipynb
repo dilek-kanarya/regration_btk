{
 "cells": [
  {
   "cell_type": "code",
   "execution_count": 1,
   "id": "cb09f181",
   "metadata": {},
   "outputs": [],
   "source": [
    "import pickle"
   ]
  },
  {
   "cell_type": "code",
   "execution_count": 2,
   "id": "78fbb885",
   "metadata": {},
   "outputs": [],
   "source": [
    "with open(\"scaler1.pkl\",\"rb\") as file:\n",
    "    loaded_scaler1=pickle.load(file)"
   ]
  },
  {
   "cell_type": "code",
   "execution_count": 3,
   "id": "730b4c04",
   "metadata": {},
   "outputs": [],
   "source": [
    "with open(\"lr1.pkl\",\"rb\") as file:\n",
    "    loaded_model1=pickle.load(file)"
   ]
  },
  {
   "cell_type": "code",
   "execution_count": 4,
   "id": "e81cb56c",
   "metadata": {},
   "outputs": [],
   "source": [
    "import numpy as np\n",
    "import pandas as pd\n",
    "manuel_ozellikler = [17.99, 10.38, 122.8, 1001, 0.1184, 0.2776, 0.3001, 0.1471, 0.2419, 0.07871, 1.095, 0.9053, 8.589, 153.4, 0.006399, 0.04904, 0.05373, 0.01587, 0.03003, 0.006193, 25.38, 17.33, 184.6, 2019, 0.1622, 0.6656, 0.7119, 0.2654, 0.4601, 0.1189]\n",
    "\n"
   ]
  },
  {
   "cell_type": "code",
   "execution_count": 5,
   "id": "745dd81b",
   "metadata": {},
   "outputs": [],
   "source": [
    "manuel_df=pd.DataFrame([manuel_ozellikler])"
   ]
  },
  {
   "cell_type": "code",
   "execution_count": 6,
   "id": "b06de50a",
   "metadata": {},
   "outputs": [
    {
     "data": {
      "text/html": [
       "<div>\n",
       "<style scoped>\n",
       "    .dataframe tbody tr th:only-of-type {\n",
       "        vertical-align: middle;\n",
       "    }\n",
       "\n",
       "    .dataframe tbody tr th {\n",
       "        vertical-align: top;\n",
       "    }\n",
       "\n",
       "    .dataframe thead th {\n",
       "        text-align: right;\n",
       "    }\n",
       "</style>\n",
       "<table border=\"1\" class=\"dataframe\">\n",
       "  <thead>\n",
       "    <tr style=\"text-align: right;\">\n",
       "      <th></th>\n",
       "      <th>0</th>\n",
       "      <th>1</th>\n",
       "      <th>2</th>\n",
       "      <th>3</th>\n",
       "      <th>4</th>\n",
       "      <th>5</th>\n",
       "      <th>6</th>\n",
       "      <th>7</th>\n",
       "      <th>8</th>\n",
       "      <th>9</th>\n",
       "      <th>...</th>\n",
       "      <th>20</th>\n",
       "      <th>21</th>\n",
       "      <th>22</th>\n",
       "      <th>23</th>\n",
       "      <th>24</th>\n",
       "      <th>25</th>\n",
       "      <th>26</th>\n",
       "      <th>27</th>\n",
       "      <th>28</th>\n",
       "      <th>29</th>\n",
       "    </tr>\n",
       "  </thead>\n",
       "  <tbody>\n",
       "    <tr>\n",
       "      <th>0</th>\n",
       "      <td>17.99</td>\n",
       "      <td>10.38</td>\n",
       "      <td>122.8</td>\n",
       "      <td>1001</td>\n",
       "      <td>0.1184</td>\n",
       "      <td>0.2776</td>\n",
       "      <td>0.3001</td>\n",
       "      <td>0.1471</td>\n",
       "      <td>0.2419</td>\n",
       "      <td>0.07871</td>\n",
       "      <td>...</td>\n",
       "      <td>25.38</td>\n",
       "      <td>17.33</td>\n",
       "      <td>184.6</td>\n",
       "      <td>2019</td>\n",
       "      <td>0.1622</td>\n",
       "      <td>0.6656</td>\n",
       "      <td>0.7119</td>\n",
       "      <td>0.2654</td>\n",
       "      <td>0.4601</td>\n",
       "      <td>0.1189</td>\n",
       "    </tr>\n",
       "  </tbody>\n",
       "</table>\n",
       "<p>1 rows × 30 columns</p>\n",
       "</div>"
      ],
      "text/plain": [
       "      0      1      2     3       4       5       6       7       8        9   \\\n",
       "0  17.99  10.38  122.8  1001  0.1184  0.2776  0.3001  0.1471  0.2419  0.07871   \n",
       "\n",
       "   ...     20     21     22    23      24      25      26      27      28  \\\n",
       "0  ...  25.38  17.33  184.6  2019  0.1622  0.6656  0.7119  0.2654  0.4601   \n",
       "\n",
       "       29  \n",
       "0  0.1189  \n",
       "\n",
       "[1 rows x 30 columns]"
      ]
     },
     "execution_count": 6,
     "metadata": {},
     "output_type": "execute_result"
    }
   ],
   "source": [
    "manuel_df"
   ]
  },
  {
   "cell_type": "code",
   "execution_count": 7,
   "id": "917c4a63",
   "metadata": {},
   "outputs": [
    {
     "name": "stderr",
     "output_type": "stream",
     "text": [
      "C:\\Users\\Envy\\.conda\\envs\\BTKTraininng\\Lib\\site-packages\\sklearn\\base.py:493: UserWarning: X does not have valid feature names, but StandardScaler was fitted with feature names\n",
      "  warnings.warn(\n"
     ]
    }
   ],
   "source": [
    "manuel_olceklendirilmis_veri=loaded_scaler1.transform(manuel_df)"
   ]
  },
  {
   "cell_type": "code",
   "execution_count": null,
   "id": "55427fbd",
   "metadata": {},
   "outputs": [],
   "source": []
  },
  {
   "cell_type": "code",
   "execution_count": 8,
   "id": "1bc5fe57",
   "metadata": {},
   "outputs": [
    {
     "data": {
      "text/plain": [
       "array([1])"
      ]
     },
     "execution_count": 8,
     "metadata": {},
     "output_type": "execute_result"
    }
   ],
   "source": [
    "loaded_model1.predict(manuel_olceklendirilmis_veri)"
   ]
  },
  {
   "cell_type": "code",
   "execution_count": 9,
   "id": "e92fabe1",
   "metadata": {},
   "outputs": [
    {
     "name": "stdout",
     "output_type": "stream",
     "text": [
      "verilen değerlere göre tahmin edilen durum kanserli [1]\n"
     ]
    }
   ],
   "source": [
    "if loaded_model1.predict(manuel_olceklendirilmis_veri)==1:\n",
    "    print(\"verilen değerlere göre tahmin edilen durum kanserli\",loaded_model1.predict(manuel_olceklendirilmis_veri))\n",
    "else:\n",
    "    print(\"verilen değerlere göre tahmin edilen durum kanserli değil\",loaded_model1.predict(manuel_olceklendirilmis_veri))"
   ]
  },
  {
   "cell_type": "code",
   "execution_count": 10,
   "id": "a41fa5ff",
   "metadata": {},
   "outputs": [],
   "source": [
    "import joblib\n",
    "with open(\"scaler5.jb\",\"rb\") as file:\n",
    "    loaded_scaler2=joblib.load(file)\n",
    "    \n",
    "with open(\"lr5.jb\",\"rb\") as file:\n",
    "    loaded_model2=joblib.load(file)"
   ]
  },
  {
   "cell_type": "code",
   "execution_count": 11,
   "id": "3aad737d",
   "metadata": {},
   "outputs": [],
   "source": [
    "import numpy as np\n",
    "import pandas as pd\n",
    "manuel_ozellikler = [17.99, 10.38, 122.8, 1001, 0.1184, 0.2776, 0.3001, 0.1471, 0.2419, 0.07871, 1.095, 0.9053, 8.589, 153.4, 0.006399, 0.04904, 0.05373, 0.01587, 0.03003, 0.006193, 25.38, 17.33, 184.6, 2019, 0.1622, 0.6656, 0.7119, 0.2654, 0.4601, 0.1189]\n",
    "\n"
   ]
  },
  {
   "cell_type": "code",
   "execution_count": 12,
   "id": "1a0682fa",
   "metadata": {},
   "outputs": [],
   "source": [
    "manuel_df=pd.DataFrame([manuel_ozellikler])"
   ]
  },
  {
   "cell_type": "code",
   "execution_count": 13,
   "id": "cc057e82",
   "metadata": {},
   "outputs": [
    {
     "name": "stderr",
     "output_type": "stream",
     "text": [
      "C:\\Users\\Envy\\.conda\\envs\\BTKTraininng\\Lib\\site-packages\\sklearn\\base.py:493: UserWarning: X does not have valid feature names, but StandardScaler was fitted with feature names\n",
      "  warnings.warn(\n"
     ]
    }
   ],
   "source": [
    "manuel_olceklendirilmis_veri=loaded_scaler2.transform(manuel_df)"
   ]
  },
  {
   "cell_type": "code",
   "execution_count": 14,
   "id": "d457b169",
   "metadata": {},
   "outputs": [
    {
     "data": {
      "text/plain": [
       "array([1])"
      ]
     },
     "execution_count": 14,
     "metadata": {},
     "output_type": "execute_result"
    }
   ],
   "source": [
    "loaded_model2.predict(manuel_olceklendirilmis_veri)"
   ]
  },
  {
   "cell_type": "code",
   "execution_count": 15,
   "id": "6fbdc07c",
   "metadata": {},
   "outputs": [
    {
     "name": "stdout",
     "output_type": "stream",
     "text": [
      "verilen değerlere göre tahmin edilen durum kanserli [1]\n"
     ]
    }
   ],
   "source": [
    "if loaded_model2.predict(manuel_olceklendirilmis_veri)==1:\n",
    "    print(\"verilen değerlere göre tahmin edilen durum kanserli\",loaded_model2.predict(manuel_olceklendirilmis_veri))\n",
    "else:\n",
    "    print(\"verilen değerlere göre tahmin edilen durum kanserli değil\",loaded_model2.predict(manuel_olceklendirilmis_veri))"
   ]
  },
  {
   "cell_type": "code",
   "execution_count": null,
   "id": "bbd76bf8",
   "metadata": {},
   "outputs": [],
   "source": []
  }
 ],
 "metadata": {
  "kernelspec": {
   "display_name": "Python 3 (ipykernel)",
   "language": "python",
   "name": "python3"
  },
  "language_info": {
   "codemirror_mode": {
    "name": "ipython",
    "version": 3
   },
   "file_extension": ".py",
   "mimetype": "text/x-python",
   "name": "python",
   "nbconvert_exporter": "python",
   "pygments_lexer": "ipython3",
   "version": "3.12.7"
  }
 },
 "nbformat": 4,
 "nbformat_minor": 5
}
